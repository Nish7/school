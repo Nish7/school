{
    "cells": [
        {
            "cell_type": "markdown",
            "source": [
                "# Session 2 - Sep 13 "
            ],
            "metadata": {}
        },
        {
            "cell_type": "code",
            "execution_count": 1,
            "source": [
                "print('Hello World')\n",
                "\n",
                "i = int(input('Give me an integer: '))\n",
                "print(type(i))"
            ],
            "outputs": [
                {
                    "output_type": "stream",
                    "name": "stdout",
                    "text": [
                        "Hello World\n",
                        "<class 'int'>\n"
                    ]
                }
            ],
            "metadata": {}
        },
        {
            "cell_type": "code",
            "execution_count": 2,
            "source": [
                "def sleep_in(weekday, vacation):\n",
                "  if vacation == True:\n",
                "    return True\n",
                "    \n",
                "  if weekday == True:\n",
                "    return False\n",
                "  \n",
                "  if weekday == False & vacation == False:\n",
                "    return True"
            ],
            "outputs": [],
            "metadata": {}
        },
        {
            "cell_type": "code",
            "execution_count": 4,
            "source": [
                "import math\n",
                "math.log(math.e)"
            ],
            "outputs": [
                {
                    "output_type": "execute_result",
                    "data": {
                        "text/plain": [
                            "1.0"
                        ]
                    },
                    "metadata": {},
                    "execution_count": 4
                }
            ],
            "metadata": {}
        },
        {
            "cell_type": "code",
            "execution_count": null,
            "source": [],
            "outputs": [],
            "metadata": {}
        }
    ],
    "metadata": {
        "orig_nbformat": 4,
        "language_info": {
            "name": "python",
            "version": "3.9.7",
            "mimetype": "text/x-python",
            "codemirror_mode": {
                "name": "ipython",
                "version": 3
            },
            "pygments_lexer": "ipython3",
            "nbconvert_exporter": "python",
            "file_extension": ".py"
        },
        "kernelspec": {
            "name": "python3",
            "display_name": "Python 3.9.7 64-bit ('3.9.7': pyenv)"
        },
        "interpreter": {
            "hash": "deacc39f1c4728a73727574d9dda50015d706b1ab7357714e523cdd94fbd112b"
        }
    },
    "nbformat": 4,
    "nbformat_minor": 2
}